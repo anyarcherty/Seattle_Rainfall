{
 "cells": [
  {
   "cell_type": "code",
   "execution_count": 1,
   "metadata": {
    "collapsed": true
   },
   "outputs": [],
   "source": [
    "import pandas as pd\n",
    "import numpy as np\n",
    "import matplotlib.pyplot as plt\n",
    "import scipy.stats as sp"
   ]
  },
  {
   "cell_type": "markdown",
   "metadata": {},
   "source": [
    "# Read File"
   ]
  },
  {
   "cell_type": "code",
   "execution_count": 2,
   "metadata": {
    "collapsed": true
   },
   "outputs": [],
   "source": [
    "df = pd.read_csv('seattleWeather_1948-2017.csv')"
   ]
  },
  {
   "cell_type": "code",
   "execution_count": 3,
   "metadata": {},
   "outputs": [
    {
     "name": "stdout",
     "output_type": "stream",
     "text": [
      "         DATE  PRCP  TMAX  TMIN  RAIN\n",
      "0  1948-01-01  0.47    51    42  True\n",
      "1  1948-01-02  0.59    45    36  True\n",
      "2  1948-01-03  0.42    45    35  True\n",
      "3  1948-01-04  0.31    45    34  True\n",
      "4  1948-01-05  0.17    45    32  True\n"
     ]
    }
   ],
   "source": [
    "print(df.head(5))"
   ]
  },
  {
   "cell_type": "code",
   "execution_count": 8,
   "metadata": {},
   "outputs": [
    {
     "name": "stdout",
     "output_type": "stream",
     "text": [
      "25551\n"
     ]
    }
   ],
   "source": [
    "print(df.shape)"
   ]
  },
  {
   "cell_type": "markdown",
   "metadata": {},
   "source": [
    "# Obtain Year"
   ]
  },
  {
   "cell_type": "code",
   "execution_count": 18,
   "metadata": {},
   "outputs": [],
   "source": [
    "year_date = np.zeros(df.shape[0], dtype=np.int)\n",
    "for i in range(df.shape[0]):\n",
    "    year_date[i]= pd.to_datetime(df.DATE[i]).year\n",
    "year_new = np.unique(year_date)"
   ]
  },
  {
   "cell_type": "code",
   "execution_count": 19,
   "metadata": {},
   "outputs": [
    {
     "name": "stdout",
     "output_type": "stream",
     "text": [
      "[1948 1949 1950 1951 1952 1953 1954 1955 1956 1957 1958 1959 1960 1961\n",
      " 1962 1963 1964 1965 1966 1967 1968 1969 1970 1971 1972 1973 1974 1975\n",
      " 1976 1977 1978 1979 1980 1981 1982 1983 1984 1985 1986 1987 1988 1989\n",
      " 1990 1991 1992 1993 1994 1995 1996 1997 1998 1999 2000 2001 2002 2003\n",
      " 2004 2005 2006 2007 2008 2009 2010 2011 2012 2013 2014 2015 2016 2017]\n"
     ]
    }
   ],
   "source": [
    "print(year_new)"
   ]
  },
  {
   "cell_type": "code",
   "execution_count": 14,
   "metadata": {
    "collapsed": true
   },
   "outputs": [],
   "source": [
    "year = pd.DataFrame(year_date, columns=['YEAR'])"
   ]
  },
  {
   "cell_type": "code",
   "execution_count": 15,
   "metadata": {
    "collapsed": true
   },
   "outputs": [],
   "source": [
    "df_new = pd.concat([df, year], axis=1)"
   ]
  },
  {
   "cell_type": "code",
   "execution_count": 17,
   "metadata": {},
   "outputs": [
    {
     "name": "stdout",
     "output_type": "stream",
     "text": [
      "         DATE  PRCP  TMAX  TMIN  RAIN  YEAR\n",
      "0  1948-01-01  0.47    51    42  True  1948\n",
      "1  1948-01-02  0.59    45    36  True  1948\n",
      "2  1948-01-03  0.42    45    35  True  1948\n",
      "3  1948-01-04  0.31    45    34  True  1948\n",
      "4  1948-01-05  0.17    45    32  True  1948\n"
     ]
    }
   ],
   "source": [
    "print(df_new.head(5))"
   ]
  },
  {
   "cell_type": "markdown",
   "metadata": {},
   "source": [
    "# Sum Precipitation for each year"
   ]
  },
  {
   "cell_type": "code",
   "execution_count": 20,
   "metadata": {
    "collapsed": true
   },
   "outputs": [],
   "source": [
    "prcp = np.zeros(year_new.shape[0])\n",
    "for i in range(year_new.shape[0]):\n",
    "    prcp[i] = format(df_new.loc[df_new['YEAR'] == year_new[i], 'PRCP'].sum(), '0.2f')"
   ]
  },
  {
   "cell_type": "code",
   "execution_count": 21,
   "metadata": {},
   "outputs": [
    {
     "name": "stdout",
     "output_type": "stream",
     "text": [
      "[45.79 32.46 55.14 40.3  23.78 49.42 41.27 46.61 36.85 34.63 42.63 46.52\n",
      " 39.28 42.53 35.79 38.72 41.34 33.56 38.23 35.58 50.15 33.73 37.41 43.21\n",
      " 48.36 35.04 37.87 44.48 26.7  32.84 33.99 32.26 35.6  35.4  39.32 40.93\n",
      " 36.99 25.13 38.34 29.93 32.98 34.69 44.75 35.42 32.78 28.8  34.82 42.6\n",
      " 50.67 43.26 44.06 42.11 28.66 37.56 31.36 41.78 31.1  35.44 48.42 38.95\n",
      " 30.73 38.44 46.99 36.39 48.26 32.56 48.5  44.83 45.18 43.55]\n"
     ]
    }
   ],
   "source": [
    "print(prcp)"
   ]
  },
  {
   "cell_type": "code",
   "execution_count": 22,
   "metadata": {
    "collapsed": true
   },
   "outputs": [],
   "source": [
    "total = pd.concat([pd.DataFrame(year_new, columns=['Year']), pd.DataFrame(prcp, columns=['Total_P'])], axis=1 )"
   ]
  },
  {
   "cell_type": "markdown",
   "metadata": {},
   "source": [
    "# Calculate the Return Year"
   ]
  },
  {
   "cell_type": "code",
   "execution_count": 23,
   "metadata": {
    "collapsed": true
   },
   "outputs": [],
   "source": [
    "max_rain = df_new.groupby(['YEAR'])['PRCP'].max().reset_index()"
   ]
  },
  {
   "cell_type": "code",
   "execution_count": 24,
   "metadata": {
    "collapsed": true
   },
   "outputs": [],
   "source": [
    "sort_rain = max_rain.sort_values(by =['PRCP'], ascending=False).reset_index(drop=True)"
   ]
  },
  {
   "cell_type": "code",
   "execution_count": 25,
   "metadata": {
    "collapsed": true
   },
   "outputs": [],
   "source": [
    "rank = np.zeros((len(sort_rain), 3))\n",
    "for i in range(len(sort_rain)):\n",
    "    rank[i, 0] = i + 1\n",
    "    rank[i, 1] = (i + 1)/(len(sort_rain)+1)\n",
    "    rank[i, 2] = 1/rank[i, 1]\n",
    "\n",
    "rank = pd.DataFrame(rank, columns=['rank', 'probability', 'return_year'])\n",
    "rank[['rank', 'return_year']] = rank[['rank', 'return_year']].astype(int)\n",
    "rank_rain = pd.concat([sort_rain, rank], axis=1)"
   ]
  },
  {
   "cell_type": "code",
   "execution_count": 26,
   "metadata": {},
   "outputs": [
    {
     "data": {
      "image/png": "[encoded data removed]",
      "text/plain": [
       "<matplotlib.figure.Figure at 0x10892af98>"
      ]
     },
     "metadata": {},
     "output_type": "display_data"
    }
   ],
   "source": [
    "plt.scatter(rank_rain['return_year'], rank_rain['PRCP'], s=8, color = 'b')\n",
    "plt.legend()\n",
    "plt.xlabel('Return Year (yr)')\n",
    "plt.ylabel('Precipitation (inches)')\n",
    "plt.show()"
   ]
  },
  {
   "cell_type": "markdown",
   "metadata": {},
   "source": [
    "# Build three model"
   ]
  },
  {
   "cell_type": "code",
   "execution_count": 31,
   "metadata": {
    "collapsed": true
   },
   "outputs": [],
   "source": [
    "rain = np.array(rank_rain['PRCP'])\n",
    "std = np.std(rain)\n",
    "u = np.mean(rain)\n",
    "skew = sp.skew(np.log10(rain))\n",
    "re_year = np.array(rank_rain['return_year'])"
   ]
  },
  {
   "cell_type": "code",
   "execution_count": 32,
   "metadata": {
    "collapsed": true
   },
   "outputs": [],
   "source": [
    "z = np.zeros(len(re_year))\n",
    "k3 = np.zeros(len(re_year))\n",
    "lp3 = np.zeros(len(re_year))\n",
    "\n",
    "for i in range(len(k3)):\n",
    "    if re_year[i] != 1:\n",
    "        z[i] = sp.norm.ppf(1-(1/re_year[i]))\n",
    "        k3[i] = -(np.sqrt(6)/np.pi)*(0.5772 + np.log(np.log(re_year[i]/(re_year[i]-1)))) \n",
    "    else:\n",
    "        z[i] = sp.norm.ppf(1-(1/(re_year[i]+0.1)))\n",
    "        k3[i] = -(np.sqrt(6)/np.pi)*(0.5772 + np.log(np.log((re_year[i]+0.1)/(re_year[i]+0.1-1))))\n",
    "    lp3[i] = 2/skew * (np.power((z[i] - skew/6)*skew/6+1, 3)-1)"
   ]
  },
  {
   "cell_type": "code",
   "execution_count": 33,
   "metadata": {},
   "outputs": [
    {
     "name": "stdout",
     "output_type": "stream",
     "text": [
      "     Normal    Gumbel  LogPerason  YEAR  PRCP  rank  probability  return_year\n",
      "0  3.496118  3.958257    4.194639  2003  5.02     1     0.014085           71\n",
      "1  3.295153  3.575661    3.668722  2007  3.77     2     0.028169           35\n",
      "2  3.164332  3.346791    3.376021  1959  3.41     3     0.042254           23\n",
      "3  3.063441  3.180684    3.173122  2006  3.29     4     0.056338           17\n",
      "4  2.995132  3.073180    3.045892  1996  3.06     5     0.070423           14\n"
     ]
    }
   ],
   "source": [
    "model_rain = np.zeros((len(rain), 3))\n",
    "for i in range(len(model_rain)):\n",
    "    model_rain[i][0] = u + z[i]* std\n",
    "    model_rain[i][1] = u + k3[i] * std\n",
    "    model_rain[i][2] = np.power(10, np.mean(np.log10(rain)) + lp3[i] * np.std(np.log10(rain)))\n",
    "pd_rain = pd.DataFrame(model_rain, columns=['Normal', 'Gumbel', 'LogPerason'])\n",
    "total_rain = pd.concat([pd_rain, rank_rain], axis=1)\n",
    "print(total_rain.head(5))"
   ]
  },
  {
   "cell_type": "code",
   "execution_count": 34,
   "metadata": {},
   "outputs": [
    {
     "data": {
      "image/png": "[encoded data removed]",
      "text/plain": [
       "<matplotlib.figure.Figure at 0x1a109e0b00>"
      ]
     },
     "metadata": {},
     "output_type": "display_data"
    }
   ],
   "source": [
    "plt.plot(total_rain['return_year'], total_rain['Normal'], color = 'g')\n",
    "plt.plot(total_rain['return_year'], total_rain['Gumbel'], color = 'y')\n",
    "plt.plot(total_rain['return_year'], total_rain['LogPerason'], color = 'b')\n",
    "plt.scatter(total_rain['return_year'], total_rain['PRCP'], s=8, color= 'r')\n",
    "plt.legend()\n",
    "plt.xlabel('Return Year (yr)')\n",
    "plt.ylabel('Precipitation (inches)')\n",
    "plt.show()"
   ]
  },
  {
   "cell_type": "markdown",
   "metadata": {},
   "source": [
    "# Model Selection"
   ]
  },
  {
   "cell_type": "code",
   "execution_count": 36,
   "metadata": {
    "collapsed": true
   },
   "outputs": [],
   "source": [
    "se = np.zeros((len(total_rain), 3))\n",
    "for i in range(len(total_rain)):\n",
    "    se[i][0] = np.square(total_rain.PRCP[i]-total_rain.Normal[i])\n",
    "    se[i][1] = np.square(total_rain.PRCP[i]-total_rain.Gumbel[i])\n",
    "    se[i][2] = np.square(total_rain.PRCP[i]-total_rain.LogPerason[i])\n",
    "mse = pd.DataFrame(np.average(se, axis=0), index=['Normal', 'Gumbel', 'Logperason'], columns=['MSE'])"
   ]
  },
  {
   "cell_type": "code",
   "execution_count": 56,
   "metadata": {},
   "outputs": [
    {
     "name": "stdout",
     "output_type": "stream",
     "text": [
      "                 MSE\n",
      "Normal      0.166235\n",
      "Gumbel      0.087722\n",
      "Logperason  0.058394\n"
     ]
    }
   ],
   "source": [
    "print(mse)"
   ]
  },
  {
   "cell_type": "code",
   "execution_count": 55,
   "metadata": {},
   "outputs": [
    {
     "name": "stdout",
     "output_type": "stream",
     "text": [
      "The best model is ['Logperason'] and the MSE is [0.0583941583125492]\n"
     ]
    }
   ],
   "source": [
    "print('The best model is', list(mse.idxmin()), 'and the MSE is', list(mse.min()))"
   ]
  }
 ],
 "metadata": {
  "kernelspec": {
   "display_name": "Python 3",
   "language": "python",
   "name": "python3"
  },
  "language_info": {
   "codemirror_mode": {
    "name": "ipython",
    "version": 3
   },
   "file_extension": ".py",
   "mimetype": "text/x-python",
   "name": "python",
   "nbconvert_exporter": "python",
   "pygments_lexer": "ipython3",
   "version": "3.6.2"
  }
 },
 "nbformat": 4,
 "nbformat_minor": 2
}
